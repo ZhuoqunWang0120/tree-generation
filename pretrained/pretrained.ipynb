{
 "cells": [
  {
   "cell_type": "code",
   "execution_count": 1,
   "metadata": {},
   "outputs": [],
   "source": [
    "import rpy2.robjects as robjects\n",
    "from rpy2.robjects.packages import importr\n",
    "import torch\n",
    "import matplotlib.pyplot as plt"
   ]
  },
  {
   "cell_type": "code",
   "execution_count": 13,
   "metadata": {},
   "outputs": [
    {
     "data": {
      "image/png": "[encoded data removed]",
      "text/plain": [
       "<Figure size 640x480 with 1 Axes>"
      ]
     },
     "metadata": {},
     "output_type": "display_data"
    }
   ],
   "source": [
    "# data\n",
    "# set seed for reproducibility\n",
    "torch.manual_seed(0)\n",
    "N = 1000\n",
    "c = torch.cat([torch.ones((N//2,1)), torch.zeros((N//2,1))], dim=0)\n",
    "X = torch.randn((N,1)) * 0.1 + c\n",
    "X = (X - X.min()) / (X.max() - X.min())\n",
    "# hist X, color by c\n",
    "plt.hist(X[c == 0].ravel(), label = 'c=0')\n",
    "plt.hist(X[c == 1].ravel(), label = 'c=1')\n",
    "plt.legend();\n",
    "# save torch tensor X and c \n",
    "torch.save(X, '/hpc/home/zw122/tree_condsamp/LACE/tree-toy/pretrained/X.pt')\n",
    "torch.save(c, '/hpc/home/zw122/tree_condsamp/LACE/tree-toy/pretrained/c.pt')\n"
   ]
  },
  {
   "cell_type": "code",
   "execution_count": 17,
   "metadata": {},
   "outputs": [
    {
     "name": "stdout",
     "output_type": "stream",
     "text": [
      "Estimating the marginal distribution... (1/1)\n",
      "100 trees are constructed in this step\n",
      "Estimating the dependency structure...\n",
      "1000 trees are constructed in this step\n",
      "Time difference of 0.1389797 secs\n"
     ]
    },
    {
     "data": {
      "text/plain": [
       "<rpy2.rinterface_lib.sexp.NULLType object at 0x7f025435a580> [RTYPES.NILSXP]"
      ]
     },
     "execution_count": 17,
     "metadata": {},
     "output_type": "execute_result"
    }
   ],
   "source": [
    "# train tree boosting\n",
    "bpm = importr('boostPM')\n",
    "import rpy2.robjects as robj\n",
    "def torch2rmat(tensor):\n",
    "    nr, nc = tensor.shape\n",
    "    xvec = robj.FloatVector(tensor.numpy().transpose().reshape((tensor.numel())))\n",
    "    xr = robj.r.matrix(xvec, nrow=nr, ncol=nc)\n",
    "    return xr\n",
    "data = torch2rmat(X)\n",
    "out = bpm.boosting(data)\n",
    "# save out\n",
    "robj.r.saveRDS(out, file='/hpc/home/zw122/tree_condsamp/LACE/tree-toy/pretrained/out.rds')"
   ]
  },
  {
   "cell_type": "code",
   "execution_count": 57,
   "metadata": {},
   "outputs": [],
   "source": [
    "# define generator\n",
    "out1 = robj.r.readRDS('/hpc/home/zw122/tree_condsamp/LACE/tree-toy/pretrained/out.rds')\n",
    "m = torch.distributions.normal.Normal(0, 1)\n",
    "def g(z, out): #z:nsample * d\n",
    "    # apply gaussian CDF to z\n",
    "    u = torch2rmat(torch.transpose(m.cdf(z.reshape(-1,1)),0,1))\n",
    "    # gz = fast_func.MC_reverse(u, x, trees, c0, gamma, ydim) \n",
    "    gz = bpm.simulation_b(out,z.shape[0],u)\n",
    "    # turn gz into a tensor\n",
    "    gz = torch.tensor(gz)\n",
    "    gz.requires_grad = True\n",
    "    return gz"
   ]
  },
  {
   "cell_type": "code",
   "execution_count": 60,
   "metadata": {},
   "outputs": [],
   "source": [
    "z = m.sample((1000,1))\n",
    "gz = g(z, out1)"
   ]
  },
  {
   "cell_type": "code",
   "execution_count": null,
   "metadata": {},
   "outputs": [],
   "source": []
  }
 ],
 "metadata": {
  "kernelspec": {
   "display_name": "goujio",
   "language": "python",
   "name": "python3"
  },
  "language_info": {
   "codemirror_mode": {
    "name": "ipython",
    "version": 3
   },
   "file_extension": ".py",
   "mimetype": "text/x-python",
   "name": "python",
   "nbconvert_exporter": "python",
   "pygments_lexer": "ipython3",
   "version": "3.10.13"
  }
 },
 "nbformat": 4,
 "nbformat_minor": 2
}
